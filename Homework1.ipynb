{
  "nbformat": 4,
  "nbformat_minor": 0,
  "metadata": {
    "colab": {
      "provenance": [],
      "authorship_tag": "ABX9TyPo9CI30wDPWMbnzUD1i1Hb",
      "include_colab_link": true
    },
    "kernelspec": {
      "name": "python3",
      "display_name": "Python 3"
    },
    "language_info": {
      "name": "python"
    }
  },
  "cells": [
    {
      "cell_type": "markdown",
      "metadata": {
        "id": "view-in-github",
        "colab_type": "text"
      },
      "source": [
        "<a href=\"https://colab.research.google.com/github/kaashcro/MAT421-ComputationalMethods/blob/main/Homework1.ipynb\" target=\"_parent\"><img src=\"https://colab.research.google.com/assets/colab-badge.svg\" alt=\"Open In Colab\"/></a>"
      ]
    },
    {
      "cell_type": "markdown",
      "source": [
        "Kaitlyn Ashcroft"
      ],
      "metadata": {
        "id": "5qbe-0FrJWEq"
      }
    },
    {
      "cell_type": "code",
      "execution_count": 12,
      "metadata": {
        "id": "ToW3sIXp_s3Y"
      },
      "outputs": [],
      "source": [
        "import numpy as np\n",
        "import matplotlib.pyplot as plt"
      ]
    },
    {
      "cell_type": "markdown",
      "source": [
        "Base_N and Binary\n"
      ],
      "metadata": {
        "id": "DDwZtWAmJNkx"
      }
    },
    {
      "cell_type": "code",
      "source": [
        "x=54 #as seen in the text 54 can be convert from base 10 to base 2. We take 54 and divide it up into values that can be be gotten from 2\n",
        "# so 32 has a base of 2, 16 has a base of 2, 4 has a base of 2, and 2 has a base of 2. Then we put it in a series of 2^n to convert it to binary.\n",
        "# 32= 1*2^5, 16=1*2^4, 4=1*2^2, and 2=1*2^1, but because it is a series we have to have the values in between but they are times by zero\n",
        "# 0*2^3 0*2^0\n",
        "#The binary we get is 110110, the computer should get this when we plug 54 into bin()\n",
        "print(x,'=',bin(x))"
      ],
      "metadata": {
        "colab": {
          "base_uri": "https://localhost:8080/"
        },
        "id": "QXe36lX2JVkv",
        "outputId": "439bbdd3-5c2b-46bd-934f-879ec1a4dfea"
      },
      "execution_count": 2,
      "outputs": [
        {
          "output_type": "stream",
          "name": "stdout",
          "text": [
            "54 = 0b110110\n"
          ]
        }
      ]
    },
    {
      "cell_type": "markdown",
      "source": [
        "Floating Point Numbers"
      ],
      "metadata": {
        "id": "aSgjDG9zdxSU"
      }
    },
    {
      "cell_type": "code",
      "source": [
        "import sys\n",
        "sys.float_info"
      ],
      "metadata": {
        "colab": {
          "base_uri": "https://localhost:8080/"
        },
        "id": "4BDp-gl0d890",
        "outputId": "00657797-909f-4f41-b7e8-e63acdcdb947"
      },
      "execution_count": 9,
      "outputs": [
        {
          "output_type": "execute_result",
          "data": {
            "text/plain": [
              "sys.float_info(max=1.7976931348623157e+308, max_exp=1024, max_10_exp=308, min=2.2250738585072014e-308, min_exp=-1021, min_10_exp=-307, dig=15, mant_dig=53, epsilon=2.220446049250313e-16, radix=2, rounds=1)"
            ]
          },
          "metadata": {},
          "execution_count": 9
        }
      ]
    },
    {
      "cell_type": "code",
      "source": [
        "np.spacing(1e10) # The gap in the number and the number represent when the number is at 1e10"
      ],
      "metadata": {
        "colab": {
          "base_uri": "https://localhost:8080/"
        },
        "id": "9vXJf9jBfbB3",
        "outputId": "9ba47de5-38cd-448f-94a8-d205588813f7"
      },
      "execution_count": 17,
      "outputs": [
        {
          "output_type": "execute_result",
          "data": {
            "text/plain": [
              "1.9073486328125e-06"
            ]
          },
          "metadata": {},
          "execution_count": 17
        }
      ]
    },
    {
      "cell_type": "code",
      "source": [
        "1e10 == (1e10 + np.spacing(1e9)/3) #making sure that the gap is less than half the same value"
      ],
      "metadata": {
        "colab": {
          "base_uri": "https://localhost:8080/"
        },
        "id": "MB1IyNR_iQXz",
        "outputId": "63290bdc-03fb-4b93-de8d-f35cdb666b4f"
      },
      "execution_count": 18,
      "outputs": [
        {
          "output_type": "execute_result",
          "data": {
            "text/plain": [
              "True"
            ]
          },
          "metadata": {},
          "execution_count": 18
        }
      ]
    },
    {
      "cell_type": "code",
      "source": [
        "largest = (2**(2046-1023))*((1 + sum(0.5**np.arange(1, 53))))\n",
        "largest"
      ],
      "metadata": {
        "colab": {
          "base_uri": "https://localhost:8080/"
        },
        "id": "2E3rsJ-_igz6",
        "outputId": "8108fd7c-18c7-4a19-82ef-ca794a187ed9"
      },
      "execution_count": 19,
      "outputs": [
        {
          "output_type": "execute_result",
          "data": {
            "text/plain": [
              "1.7976931348623157e+308"
            ]
          },
          "metadata": {},
          "execution_count": 19
        }
      ]
    },
    {
      "cell_type": "code",
      "source": [
        "sys.float_info.max"
      ],
      "metadata": {
        "colab": {
          "base_uri": "https://localhost:8080/"
        },
        "id": "nFoJWY_3p9-3",
        "outputId": "a31e5b58-74e6-4122-d6ba-cc34d1d504bd"
      },
      "execution_count": 20,
      "outputs": [
        {
          "output_type": "execute_result",
          "data": {
            "text/plain": [
              "1.7976931348623157e+308"
            ]
          },
          "metadata": {},
          "execution_count": 20
        }
      ]
    },
    {
      "cell_type": "code",
      "source": [
        "smallest = (2**(1-1023))*(1+0)\n",
        "smallest"
      ],
      "metadata": {
        "colab": {
          "base_uri": "https://localhost:8080/"
        },
        "id": "k3G2G8BaqAlb",
        "outputId": "a3c5a730-b53b-459a-feaa-9b426bf6a611"
      },
      "execution_count": 21,
      "outputs": [
        {
          "output_type": "execute_result",
          "data": {
            "text/plain": [
              "2.2250738585072014e-308"
            ]
          },
          "metadata": {},
          "execution_count": 21
        }
      ]
    },
    {
      "cell_type": "code",
      "source": [
        "sys.float_info.min #smallest number increment that the 32 bit computer can compute"
      ],
      "metadata": {
        "colab": {
          "base_uri": "https://localhost:8080/"
        },
        "id": "9jPgKyS1qDdF",
        "outputId": "bad81656-95fb-4e46-f3ea-a28f4500a392"
      },
      "execution_count": 22,
      "outputs": [
        {
          "output_type": "execute_result",
          "data": {
            "text/plain": [
              "2.2250738585072014e-308"
            ]
          },
          "metadata": {},
          "execution_count": 22
        }
      ]
    },
    {
      "cell_type": "markdown",
      "source": [
        "Round-off Errors"
      ],
      "metadata": {
        "id": "kzsN76l2vR7S"
      }
    },
    {
      "cell_type": "code",
      "source": [
        "# so when we add 7.8-7.678 we excpect it to equal 0.122 but it will not because flouting point is an aproximation of a number and thus cannot be\n",
        "#represetented by an exact number\n",
        "7.8 - 7.678 == 0.122"
      ],
      "metadata": {
        "colab": {
          "base_uri": "https://localhost:8080/"
        },
        "id": "BsWoVH765HEu",
        "outputId": "df2110c5-6e1f-4b39-f619-dfdf3daba5df"
      },
      "execution_count": 27,
      "outputs": [
        {
          "output_type": "execute_result",
          "data": {
            "text/plain": [
              "False"
            ]
          },
          "metadata": {},
          "execution_count": 27
        }
      ]
    },
    {
      "cell_type": "code",
      "source": [
        "#what the comuter gets instead is\n",
        "7.8-7.678"
      ],
      "metadata": {
        "colab": {
          "base_uri": "https://localhost:8080/"
        },
        "id": "R-Izs_Xe6W-I",
        "outputId": "d7ae3f3b-4939-4850-a040-06c528b6d501"
      },
      "execution_count": 28,
      "outputs": [
        {
          "output_type": "execute_result",
          "data": {
            "text/plain": [
              "0.12199999999999989"
            ]
          },
          "metadata": {},
          "execution_count": 28
        }
      ]
    },
    {
      "cell_type": "code",
      "source": [
        "# when adding 1+1/3-1/3 7you should get 1, and yo udo on the first iteration, however f you run through the problem multiple times the computer stars getting of from 1\n",
        "def add_and_subtract(iterations):\n",
        " result = 1\n",
        "\n",
        " for i in range(iterations):\n",
        "  result += 1/3\n",
        " for i in range(iterations):\n",
        "  result -= 1/3\n",
        " return result\n",
        "\n",
        "# for 100 iterations of this you get a small deviation from 1\n",
        "add_and_subtract(100)\n"
      ],
      "metadata": {
        "colab": {
          "base_uri": "https://localhost:8080/"
        },
        "id": "ATaOTs0qqJAJ",
        "outputId": "34f6e165-315d-4da5-fbda-1efbe88f1028"
      },
      "execution_count": 33,
      "outputs": [
        {
          "output_type": "execute_result",
          "data": {
            "text/plain": [
              "1.0000000000000002"
            ]
          },
          "metadata": {},
          "execution_count": 33
        }
      ]
    },
    {
      "cell_type": "code",
      "source": [
        "#for 1000 interations you'll get a larger deviation from 1\n",
        "add_and_subtract(1000)\n"
      ],
      "metadata": {
        "colab": {
          "base_uri": "https://localhost:8080/"
        },
        "id": "I5SB2Erg2QxB",
        "outputId": "b2fcb73d-6c26-4085-a78d-224061d52934"
      },
      "execution_count": 36,
      "outputs": [
        {
          "output_type": "execute_result",
          "data": {
            "text/plain": [
              "1.0000000000000064"
            ]
          },
          "metadata": {},
          "execution_count": 36
        }
      ]
    },
    {
      "cell_type": "code",
      "source": [
        "#for 1000000 yoou'll get an even larger deviation form 1\n",
        "add_and_subtract(100000)"
      ],
      "metadata": {
        "colab": {
          "base_uri": "https://localhost:8080/"
        },
        "id": "KEvoj8eaNqPH",
        "outputId": "7165ab1d-de32-4780-b2b3-836f6bd9b8de"
      },
      "execution_count": 38,
      "outputs": [
        {
          "output_type": "execute_result",
          "data": {
            "text/plain": [
              "1.0000000000019214"
            ]
          },
          "metadata": {},
          "execution_count": 38
        }
      ]
    }
  ]
}