{
  "nbformat": 4,
  "nbformat_minor": 0,
  "metadata": {
    "colab": {
      "provenance": [],
      "authorship_tag": "ABX9TyPUMZteH9qHdUXrwZkyjPTg",
      "include_colab_link": true
    },
    "kernelspec": {
      "name": "python3",
      "display_name": "Python 3"
    },
    "language_info": {
      "name": "python"
    }
  },
  "cells": [
    {
      "cell_type": "markdown",
      "metadata": {
        "id": "view-in-github",
        "colab_type": "text"
      },
      "source": [
        "<a href=\"https://colab.research.google.com/github/kaashcro/MAT421-ComputationalMethods/blob/main/Homework_8.ipynb\" target=\"_parent\"><img src=\"https://colab.research.google.com/assets/colab-badge.svg\" alt=\"Open In Colab\"/></a>"
      ]
    },
    {
      "cell_type": "markdown",
      "source": [
        "Numerical Integration Problem Statement\n",
        "\n",
        "Numerical integration is approximating the integral over a given range of a to b by hand. To do this we look at the area under the curve of the function. Some of the approximation methods are more accurate than others."
      ],
      "metadata": {
        "id": "4H3FoYkmt9k4"
      }
    },
    {
      "cell_type": "markdown",
      "source": [
        "Riemann’s Integral\n",
        "\n",
        "This is the simplest way to approximate integrals. It takes the area under under the curve defined by a rectangle and sums it all together."
      ],
      "metadata": {
        "id": "Q0kd2y7_t-8w"
      }
    },
    {
      "cell_type": "code",
      "source": [
        "import numpy as np\n",
        "a = 0\n",
        "b = np.pi\n",
        "n = 11\n",
        "h = (b - a) / (n - 1)\n",
        "x = np.linspace(a, b, n)\n",
        "f = np.sin(x)\n",
        "I_riemannL = h * sum(f[:n-1])\n",
        "err_riemannL = 2 - I_riemannL\n",
        "I_riemannR = h * sum(f[1::])\n",
        "err_riemannR = 2 - I_riemannR\n",
        "I_mid = h * sum(np.sin((x[:n-1] \\\n",
        " + x[1:])/2))\n",
        "err_mid = 2 - I_mid\n",
        "print(I_riemannL)\n",
        "print(err_riemannL)\n",
        "print(I_riemannR)\n",
        "print(err_riemannR)\n",
        "print(I_mid)\n",
        "print(err_mid)"
      ],
      "metadata": {
        "id": "OGN5RcCWuBdz",
        "colab": {
          "base_uri": "https://localhost:8080/"
        },
        "outputId": "0f720b68-083d-4bfd-e472-726f4d224cab"
      },
      "execution_count": 1,
      "outputs": [
        {
          "output_type": "stream",
          "name": "stdout",
          "text": [
            "1.9835235375094546\n",
            "0.01647646249054535\n",
            "1.9835235375094546\n",
            "0.01647646249054535\n",
            "2.0082484079079745\n",
            "-0.008248407907974542\n"
          ]
        }
      ]
    },
    {
      "cell_type": "markdown",
      "source": [
        "Trapezoid Rule\n",
        "\n",
        "\"The Trapazoid rule fits a trapezoid into each subinterval and sums the areas of the trapezoid to approximate the total integral.\""
      ],
      "metadata": {
        "id": "-c12cHkTuCB4"
      }
    },
    {
      "cell_type": "code",
      "source": [
        "import numpy as np\n",
        "a = 0\n",
        "b = np.pi\n",
        "n = 11\n",
        "h = (b - a) / (n - 1)\n",
        "x = np.linspace(a, b, n)\n",
        "f = np.sin(x)\n",
        "I_trap = (h/2)*(f[0] + \\\n",
        "2 * sum(f[1:n-1]) + f[n-1])\n",
        "err_trap = 2 - I_trap\n",
        "print(I_trap)\n",
        "print(err_trap)"
      ],
      "metadata": {
        "colab": {
          "base_uri": "https://localhost:8080/"
        },
        "id": "p2TjyQdOpHXx",
        "outputId": "8b9a012c-cccc-4e80-d3a6-427509985647"
      },
      "execution_count": 2,
      "outputs": [
        {
          "output_type": "stream",
          "name": "stdout",
          "text": [
            "1.9835235375094546\n",
            "0.01647646249054535\n"
          ]
        }
      ]
    }
  ]
}