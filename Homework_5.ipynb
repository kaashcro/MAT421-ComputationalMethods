{
  "nbformat": 4,
  "nbformat_minor": 0,
  "metadata": {
    "colab": {
      "provenance": [],
      "authorship_tag": "ABX9TyNW3rbyJyUhOdeCcmJFBFQ8",
      "include_colab_link": true
    },
    "kernelspec": {
      "name": "python3",
      "display_name": "Python 3"
    },
    "language_info": {
      "name": "python"
    }
  },
  "cells": [
    {
      "cell_type": "markdown",
      "metadata": {
        "id": "view-in-github",
        "colab_type": "text"
      },
      "source": [
        "<a href=\"https://colab.research.google.com/github/kaashcro/MAT421-ComputationalMethods/blob/main/Homework_5.ipynb\" target=\"_parent\"><img src=\"https://colab.research.google.com/assets/colab-badge.svg\" alt=\"Open In Colab\"/></a>"
      ]
    },
    {
      "cell_type": "markdown",
      "source": [
        "Linear Space"
      ],
      "metadata": {
        "id": "mIATeeT1l0ZH"
      }
    },
    {
      "cell_type": "code",
      "source": [
        "import numpy as np\n",
        "import matplotlib.pyplot as plt"
      ],
      "metadata": {
        "id": "bLqi6HE4FfMh"
      },
      "execution_count": 19,
      "outputs": []
    },
    {
      "cell_type": "code",
      "execution_count": 6,
      "metadata": {
        "colab": {
          "base_uri": "https://localhost:8080/"
        },
        "id": "q_aBgT3kjieG",
        "outputId": "4a56c66b-0210-49ae-97ae-dd362803ac59"
      },
      "outputs": [
        {
          "output_type": "stream",
          "name": "stdout",
          "text": [
            "[ 2  4  6  8 12]\n"
          ]
        }
      ],
      "source": [
        "vector_2=np.array([2,4,6,8,12]) #a way to set up a vector for linear algebra\n",
        "print(vector_2)"
      ]
    },
    {
      "cell_type": "code",
      "source": [
        "#to make a Matrix\n",
        "matrix= np.array([[1,2,3,5],[3,5,6,7],[2,4,6,7],[3,2,7,6]])\n",
        "print(matrix)"
      ],
      "metadata": {
        "colab": {
          "base_uri": "https://localhost:8080/"
        },
        "id": "rqc_7w4uGBAr",
        "outputId": "221e934d-39cc-419c-9021-9dcfab0f7239"
      },
      "execution_count": 7,
      "outputs": [
        {
          "output_type": "stream",
          "name": "stdout",
          "text": [
            "[[1 2 3 5]\n",
            " [3 5 6 7]\n",
            " [2 4 6 7]\n",
            " [3 2 7 6]]\n"
          ]
        }
      ]
    },
    {
      "cell_type": "code",
      "source": [
        "#Some Operations that are used on the matrices\n",
        "Matrix_1=np.array([[1,2,3],[3,2,1],[2,4,6]])\n",
        "Matrix_2=np.array([[1,3,5],[7,9,5],[6,8,4]])\n",
        "matrixMultp=Matrix_1*Matrix_2\n",
        "matrixAdd=Matrix_1+Matrix_2\n",
        "matrixSub=Matrix_1-Matrix_2\n",
        "print('Matrix mutiplication=',matrixAdd)\n",
        "print('Matrix Addition=',matrixAdd)\n",
        "print('Matrix Subtration=',matrixSub)"
      ],
      "metadata": {
        "colab": {
          "base_uri": "https://localhost:8080/"
        },
        "id": "jq-cqY51ImKU",
        "outputId": "183dd229-3bdd-4c43-9640-545fb8d4b658"
      },
      "execution_count": 10,
      "outputs": [
        {
          "output_type": "stream",
          "name": "stdout",
          "text": [
            "Matrix mutiplication= [[ 2  5  8]\n",
            " [10 11  6]\n",
            " [ 8 12 10]]\n",
            "Matrix Addition= [[ 2  5  8]\n",
            " [10 11  6]\n",
            " [ 8 12 10]]\n",
            "Matrix Subtration= [[ 0 -1 -2]\n",
            " [-4 -7 -4]\n",
            " [-4 -4  2]]\n"
          ]
        }
      ]
    },
    {
      "cell_type": "code",
      "source": [
        "#More Operations\n",
        "matrixTrans=Matrix_1.T\n",
        "matrixNorm=np.linalg.norm(Matrix_1)\n",
        "print('Transpose of Matrix 1=',matrixTrans)\n",
        "print('Norm of Matrix 1=',matrixNorm)"
      ],
      "metadata": {
        "colab": {
          "base_uri": "https://localhost:8080/"
        },
        "id": "ubyBdKL-Oj1X",
        "outputId": "6e40969d-e514-45d9-ac22-0f10837615b4"
      },
      "execution_count": 11,
      "outputs": [
        {
          "output_type": "stream",
          "name": "stdout",
          "text": [
            "Transpose of Matrix 1= [[1 3 2]\n",
            " [2 2 4]\n",
            " [3 1 6]]\n",
            "Norm of Matrix 1= 9.16515138991168\n"
          ]
        }
      ]
    },
    {
      "cell_type": "markdown",
      "source": [
        "Orthogonality"
      ],
      "metadata": {
        "id": "aZyKXjWHMYLn"
      }
    },
    {
      "cell_type": "code",
      "source": [
        "#there are operations to determine if two matrices are orthogonal(perpendicular) to each other\n",
        "dotMatrix=np.dot(Matrix_1,Matrix_2)\n",
        "crossMatrix= np.cross(Matrix_1.T,Matrix_2.T)\n",
        "detMatrix=np.linalg.det(dotMatrix)\n",
        "print('dot product of Matrix 1 and 2=',dotMatrix)\n",
        "print('Cross Product of Matrix 1 and 2=', crossMatrix)\n",
        "print('Determinate of Matrix=',detMatrix) #If the matrix equals zero then it is orthogonal"
      ],
      "metadata": {
        "colab": {
          "base_uri": "https://localhost:8080/"
        },
        "id": "841qH8lnKnoe",
        "outputId": "af8ce49e-7d47-4231-f3a2-5aa220556677"
      },
      "execution_count": 15,
      "outputs": [
        {
          "output_type": "stream",
          "name": "stdout",
          "text": [
            "dot product of Matrix 1 and 2= [[33 45 27]\n",
            " [23 35 29]\n",
            " [66 90 54]]\n",
            "Cross Product of Matrix 1 and 2= [[  4  -4   4]\n",
            " [-20  -4  12]\n",
            " [-26  18  10]]\n",
            "Determinate of Matrix= 0.0\n"
          ]
        }
      ]
    },
    {
      "cell_type": "markdown",
      "source": [
        "Eigenvalues and Eigenvectors"
      ],
      "metadata": {
        "id": "8Mqh92ZVQICS"
      }
    },
    {
      "cell_type": "code",
      "source": [
        "#eigenvalues are the solutions to differnetial equations\n",
        "from numpy.linalg import eig"
      ],
      "metadata": {
        "id": "VTK2SLTtQNho"
      },
      "execution_count": 17,
      "outputs": []
    },
    {
      "cell_type": "code",
      "source": [
        "w,v=eig(dotMatrix)\n",
        "print('E-value:', w)\n",
        "print('E-vector', v)"
      ],
      "metadata": {
        "colab": {
          "base_uri": "https://localhost:8080/"
        },
        "id": "J687y486UNFA",
        "outputId": "f6c754a8-517d-4c6d-8221-2ca10a16df97"
      },
      "execution_count": 18,
      "outputs": [
        {
          "output_type": "stream",
          "name": "stdout",
          "text": [
            "E-value: [ 1.26734314e+02 -2.50042943e-14 -4.73431372e+00]\n",
            "E-vector [[-0.41595733 -0.71027059  0.33048784]\n",
            " [-0.36728397  0.66291921 -0.67371279]\n",
            " [-0.83191465 -0.23675686  0.66097569]]\n"
          ]
        }
      ]
    },
    {
      "cell_type": "markdown",
      "source": [
        "Linear Regression"
      ],
      "metadata": {
        "id": "uT3G4AB6QKQd"
      }
    },
    {
      "cell_type": "code",
      "source": [
        "#We can find the correct curve for the data through linear regression\n",
        "x = np.linspace(0, 20, 250 )\n",
        "y = 1 + 0.5*x*x + np.random.random(len(x))*40\n",
        "A = np.vstack([x*x,x, np.ones(len(x))]).T\n",
        "y = y[:, np.newaxis]\n",
        "alpha = np.dot((np.dot(np.linalg.inv(np.dot(A.T,A)),A.T)),y)\n",
        "plt.figure(figsize = (10,8))\n",
        "plt.plot(x, y, 'b.')\n",
        "plt.plot(x, alpha[0]*x*x+alpha[1]*x + alpha[2], 'r')\n",
        "plt.show()"
      ],
      "metadata": {
        "colab": {
          "base_uri": "https://localhost:8080/",
          "height": 676
        },
        "id": "mgjASLXjQM8P",
        "outputId": "a48ffcd2-ecdc-4ce8-a69b-a409e55e4cb8"
      },
      "execution_count": 20,
      "outputs": [
        {
          "output_type": "display_data",
          "data": {
            "text/plain": [
              "<Figure size 1000x800 with 1 Axes>"
            ],
            "image/png": "[encoded data removed]"
          },
          "metadata": {}
        }
      ]
    }
  ]
}